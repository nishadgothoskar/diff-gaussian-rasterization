{
 "cells": [
  {
   "cell_type": "code",
   "execution_count": 1,
   "metadata": {},
   "outputs": [],
   "source": [
    "# !pip install -e ."
   ]
  },
  {
   "cell_type": "code",
   "execution_count": 1,
   "metadata": {},
   "outputs": [
    {
     "name": "stdout",
     "output_type": "stream",
     "text": [
      "rasterize_gaussians_fwd\n",
      "rasterize_gaussians_bwd\n"
     ]
    },
    {
     "name": "stderr",
     "output_type": "stream",
     "text": [
      "/var/tmp/ipykernel_2092226/1277798648.py:76: UserWarning: To copy construct from a tensor, it is recommended to use sourceTensor.clone().detach() or sourceTensor.clone().detach().requires_grad_(True), rather than torch.tensor(sourceTensor).\n",
      "  means3D = torch.tensor(torch.rand((100,3))-0.5 + torch.tensor([0.0, 0.0, 1.0]), requires_grad=True, device=device)\n"
     ]
    },
    {
     "name": "stdout",
     "output_type": "stream",
     "text": [
      "number of initial gaussians N=100\n"
     ]
    },
    {
     "name": "stderr",
     "output_type": "stream",
     "text": [
      "/var/tmp/ipykernel_2092226/1277798648.py:79: UserWarning: To copy construct from a tensor, it is recommended to use sourceTensor.clone().detach() or sourceTensor.clone().detach().requires_grad_(True), rather than torch.tensor(sourceTensor).\n",
      "  opacity = torch.sigmoid(torch.tensor(torch.ones((N,1)), requires_grad=True, device=device))\n",
      "/var/tmp/ipykernel_2092226/1277798648.py:80: UserWarning: To copy construct from a tensor, it is recommended to use sourceTensor.clone().detach() or sourceTensor.clone().detach().requires_grad_(True), rather than torch.tensor(sourceTensor).\n",
      "  colors_precomp = torch.tensor(torch.rand((N,3)), requires_grad=True, device=device).detach()\n",
      "/var/tmp/ipykernel_2092226/1277798648.py:82: UserWarning: To copy construct from a tensor, it is recommended to use sourceTensor.clone().detach() or sourceTensor.clone().detach().requires_grad_(True), rather than torch.tensor(sourceTensor).\n",
      "  scales = torch.exp(torch.tensor(-10.0 * torch.ones((N,3)), requires_grad=True, device=device))\n",
      "/var/tmp/ipykernel_2092226/1277798648.py:83: UserWarning: To copy construct from a tensor, it is recommended to use sourceTensor.clone().detach() or sourceTensor.clone().detach().requires_grad_(True), rather than torch.tensor(sourceTensor).\n",
      "  rotations = torch.tensor(-10.0 * torch.ones((N,4)), requires_grad=True, device=device)\n"
     ]
    },
    {
     "name": "stdout",
     "output_type": "stream",
     "text": [
      "0.7499999908297853 1.3333333054880079\n"
     ]
    }
   ],
   "source": [
    "\n",
    "import diff_gaussian_rasterization as dgr\n",
    "from diff_gaussian_rasterization import GaussianRasterizationSettings, GaussianRasterizer\n",
    "from diff_gaussian_rasterization import _C as torch_backend\n",
    "from jax_renderer import _build_rasterize_gaussians_fwd_primitive, _build_rasterize_gaussians_bwd_primitive\n",
    "\n",
    "import jax\n",
    "import jax.numpy as jnp\n",
    "from jax.scipy.spatial.transform import Rotation as R\n",
    "import torch\n",
    "import functools\n",
    "import matplotlib.pyplot as plt\n",
    "import math\n",
    "import numpy as np\n",
    "from random import randint\n",
    "from tqdm import tqdm\n",
    "from time import time\n",
    " \n",
    "device = torch.device(\"cuda\" if torch.cuda.is_available() else \"cpu\")\n",
    "device\n",
    "\n",
    "def getProjectionMatrix(znear, zfar, fovX, fovY):\n",
    "    tanHalfFovY = math.tan((fovY / 2))\n",
    "    tanHalfFovX = math.tan((fovX / 2))\n",
    "\n",
    "    top = tanHalfFovY * znear\n",
    "    bottom = -top\n",
    "    right = tanHalfFovX * znear\n",
    "    left = -right\n",
    "\n",
    "    P = torch.zeros(4, 4)\n",
    "\n",
    "    z_sign = 1.0\n",
    "\n",
    "    P[0, 0] = 2.0 * znear / (right - left)\n",
    "    P[1, 1] = 2.0 * znear / (top - bottom)\n",
    "    P[0, 2] = (right + left) / (right - left)\n",
    "    P[1, 2] = (top + bottom) / (top - bottom)\n",
    "    P[3, 2] = z_sign\n",
    "    P[2, 2] = z_sign * zfar / (zfar - znear)\n",
    "    P[2, 3] = -(zfar * znear) / (zfar - znear)\n",
    "    return P\n",
    "\n",
    "from typing import NamedTuple\n",
    "class Intrinsics(NamedTuple):\n",
    "    height: int\n",
    "    width: int\n",
    "    fx: float\n",
    "    fy: float\n",
    "    cx: float\n",
    "    cy: float\n",
    "    near: float\n",
    "    far: float\n",
    "\n",
    "def torch_to_jax(torch_array):\n",
    "    return jnp.array(torch_array.detach().cpu().numpy())\n",
    "\n",
    "default_seed = 1222\n",
    "gt_seed = 1201223\n",
    "\n",
    "#############################\n",
    "# Arguments\n",
    "#############################\n",
    "torch.manual_seed(gt_seed)\n",
    "import random\n",
    "random.seed(gt_seed)\n",
    "np.random.seed(gt_seed)\n",
    "\n",
    "intrinsics = Intrinsics(\n",
    "    height=300,\n",
    "    width=200,\n",
    "    fx=300.0, fy=300.0,\n",
    "    cx=100.0, cy=100.0,\n",
    "    near=0.01, far=2.5\n",
    ")\n",
    "\n",
    "means3D = torch.tensor(torch.rand((100,3))-0.5 + torch.tensor([0.0, 0.0, 1.0]), requires_grad=True, device=device)\n",
    "N = means3D.shape[0]; print(f\"number of initial gaussians N={N}\")\n",
    "means2D = torch.zeros_like(means3D, dtype=means3D.dtype, requires_grad=True, device=\"cuda\") + 0\n",
    "opacity = torch.sigmoid(torch.tensor(torch.ones((N,1)), requires_grad=True, device=device))\n",
    "colors_precomp = torch.tensor(torch.rand((N,3)), requires_grad=True, device=device).detach()\n",
    "sh = torch.Tensor([]) # TODO #torch.tensor(torch.rand((N,3)), requires_grad=True, device=device).detach()\n",
    "scales = torch.exp(torch.tensor(-10.0 * torch.ones((N,3)), requires_grad=True, device=device))\n",
    "rotations = torch.tensor(-10.0 * torch.ones((N,4)), requires_grad=True, device=device)\n",
    "cov3D_precomp = torch.tensor([]) #torch.tensor(0.01 * torch.ones((N,3)), requires_grad=True, device=device)  # TODO not used in test currently\n",
    "\n",
    "fovX = jnp.arctan(intrinsics.width / 2 / intrinsics.fx) * 2.0\n",
    "fovY = jnp.arctan(intrinsics.height / 2 / intrinsics.fy) * 2.0\n",
    "tan_fovx = math.tan(fovX)\n",
    "tan_fovy = math.tan(fovY)\n",
    "print(tan_fovx, tan_fovy)\n"
   ]
  },
  {
   "cell_type": "code",
   "execution_count": 2,
   "metadata": {},
   "outputs": [],
   "source": [
    "camera_pose_jax = jnp.eye(4)\n",
    "proj_matrix = getProjectionMatrix(0.01, 100.0, fovX, fovY).transpose(0,1).cuda()\n",
    "view_matrix = torch.transpose(torch.tensor(np.array(jnp.linalg.inv(camera_pose_jax))),0,1).cuda()\n",
    "projmatrix = view_matrix @ proj_matrix\n"
   ]
  },
  {
   "cell_type": "code",
   "execution_count": 3,
   "metadata": {},
   "outputs": [
    {
     "name": "stdout",
     "output_type": "stream",
     "text": [
      "==========TORCH==========\n"
     ]
    }
   ],
   "source": [
    "\n",
    "##############################\n",
    "# Torch\n",
    "##############################\n",
    "print(\"==========TORCH==========\")\n",
    "raster_settings = GaussianRasterizationSettings(\n",
    "    image_height=int(intrinsics.height),\n",
    "    image_width=int(intrinsics.width),\n",
    "    tanfovx=tan_fovx,\n",
    "    tanfovy=tan_fovy,\n",
    "    bg=torch.tensor([0.0, 0.0, 0.0]).cuda(),\n",
    "    scale_modifier=1.0,\n",
    "    viewmatrix=view_matrix,\n",
    "    projmatrix=projmatrix,\n",
    "    sh_degree=0,\n",
    "    campos=torch.zeros(3).cuda(),\n",
    "    prefiltered=False,\n",
    "    debug=None\n",
    ")\n",
    "rasterizer_fwd_torch = GaussianRasterizer(raster_settings=raster_settings)\n",
    "\n",
    "torch_args = (\n",
    "    raster_settings.bg, \n",
    "    means3D,\n",
    "    colors_precomp,\n",
    "    opacity,\n",
    "    scales,\n",
    "    rotations,\n",
    "    raster_settings.scale_modifier,\n",
    "    cov3D_precomp, # (None -> torch.Tensor([])),\n",
    "    raster_settings.viewmatrix,\n",
    "    raster_settings.projmatrix,\n",
    "    raster_settings.tanfovx,\n",
    "    raster_settings.tanfovy,\n",
    "    raster_settings.image_height,\n",
    "    raster_settings.image_width,\n",
    "    sh, # (None -> torch.Tensor([])),\n",
    "    raster_settings.sh_degree,\n",
    "    raster_settings.campos,\n",
    "    raster_settings.prefiltered,\n",
    "    raster_settings.debug\n",
    ")\n",
    "num_rendered_torch, color_torch, radii_torch, geomBuffer_torch, binningBuffer_torch, imgBuffer_torch = torch_backend.rasterize_gaussians(*torch_args)\n",
    "\n"
   ]
  },
  {
   "cell_type": "code",
   "execution_count": 5,
   "metadata": {},
   "outputs": [
    {
     "name": "stdout",
     "output_type": "stream",
     "text": [
      "423\n",
      "423\n",
      "True\n",
      "True\n",
      "False\n",
      "False\n",
      "True\n"
     ]
    }
   ],
   "source": [
    "outs1 = torch_backend.rasterize_gaussians(*torch_args)\n",
    "outs2 = torch_backend.rasterize_gaussians(*torch_args)\n",
    "assert outs1[0] == outs2[0]\n",
    "print(outs1[0])\n",
    "print(outs2[0])\n",
    "for (i,j) in zip(outs1[1:], outs2[1:]):\n",
    "    print(torch.allclose(i,j))"
   ]
  },
  {
   "cell_type": "code",
   "execution_count": 6,
   "metadata": {},
   "outputs": [],
   "source": [
    "\n",
    "rasterizer_fwd_jax = _build_rasterize_gaussians_fwd_primitive()\n",
    "jax_args = (torch_to_jax(means3D),\n",
    "            torch_to_jax(colors_precomp),\n",
    "            torch_to_jax(opacity),\n",
    "            torch_to_jax(scales),\n",
    "            torch_to_jax(rotations),\n",
    "            torch_to_jax(cov3D_precomp),\n",
    "            torch_to_jax(view_matrix),\n",
    "            torch_to_jax(projmatrix),\n",
    "            torch_to_jax(sh))\n",
    "\n",
    "num_rendered_jax, color_jax, radii_jax, geomBuffer_jax, binningBuffer_jax, imgBuffer_jax = rasterizer_fwd_jax.bind(\n",
    "            jnp.zeros(3), # bg\n",
    "            *jax_args,\n",
    "            jnp.zeros(3), # campos\n",
    "            tanfovx=tan_fovx, \n",
    "            tanfovy=tan_fovy, \n",
    "            image_height=int(intrinsics.height), \n",
    "            image_width=int(intrinsics.width),  \n",
    "            sh_degree=0\n",
    ")  \n",
    "\n",
    "assert num_rendered_torch == int(num_rendered_jax[0])\n",
    "assert jnp.allclose(torch_to_jax(color_torch), color_jax)\n",
    "assert jnp.allclose(torch_to_jax(radii_torch), radii_jax)\n",
    "assert jnp.allclose(torch_to_jax(geomBuffer_torch), geomBuffer_jax[:geomBuffer_torch.shape[0]])\n",
    "assert jnp.allclose(torch_to_jax(binningBuffer_torch), binningBuffer_jax[:binningBuffer_torch.shape[0]])\n",
    "assert jnp.allclose(torch_to_jax(imgBuffer_torch), imgBuffer_jax[:imgBuffer_torch.shape[0]])\n"
   ]
  },
  {
   "cell_type": "code",
   "execution_count": 7,
   "metadata": {},
   "outputs": [
    {
     "name": "stderr",
     "output_type": "stream",
     "text": [
      "/var/tmp/ipykernel_2092226/1216938408.py:1: UserWarning: To copy construct from a tensor, it is recommended to use sourceTensor.clone().detach() or sourceTensor.clone().detach().requires_grad_(True), rather than torch.tensor(sourceTensor).\n",
      "  dummy_out_color_torch = torch.tensor(torch.rand((3, int(intrinsics.height), int(intrinsics.width))), requires_grad=False, device=device).detach()\n"
     ]
    }
   ],
   "source": [
    "\n",
    "dummy_out_color_torch = torch.tensor(torch.rand((3, int(intrinsics.height), int(intrinsics.width))), requires_grad=False, device=device).detach()\n",
    "grad_out_color_torch = dummy_out_color_torch - color_torch\n",
    "\n",
    "torch_bwd_args = (\n",
    "    raster_settings.bg,\n",
    "    means3D, \n",
    "    radii_torch, \n",
    "    colors_precomp, \n",
    "    scales, \n",
    "    rotations, \n",
    "    raster_settings.scale_modifier, \n",
    "    cov3D_precomp, \n",
    "    raster_settings.viewmatrix, \n",
    "    raster_settings.projmatrix, \n",
    "    raster_settings.tanfovx, \n",
    "    raster_settings.tanfovy, \n",
    "    grad_out_color_torch, \n",
    "    sh, \n",
    "    raster_settings.sh_degree, \n",
    "    raster_settings.campos,\n",
    "    geomBuffer_torch,\n",
    "    num_rendered_torch,\n",
    "    binningBuffer_torch,\n",
    "    imgBuffer_torch,\n",
    "    raster_settings.debug\n",
    ")\n",
    "\n",
    "(grad_means2D_torch,\n",
    " grad_colors_precomp_torch,\n",
    " grad_opacities_torch,\n",
    " grad_means3D_torch,\n",
    " grad_cov3Ds_precomp_torch,\n",
    " grad_sh_torch,\n",
    " grad_scales_torch, grad_rotations_torch) = torch_backend.rasterize_gaussians_backward(*torch_bwd_args)\n",
    "\n"
   ]
  },
  {
   "cell_type": "code",
   "execution_count": null,
   "metadata": {},
   "outputs": [],
   "source": [
    "rasterizer_bwd_jax = _build_rasterize_gaussians_bwd_primitive()\n",
    "dummy_out_color_jax = torch_to_jax(dummy_out_color_torch)\n",
    "grad_out_color_jax = dummy_out_color_jax - color_jax\n",
    "\n",
    "assert jnp.allclose(torch_to_jax(grad_out_color_torch), grad_out_color_jax)\n"
   ]
  },
  {
   "cell_type": "code",
   "execution_count": 9,
   "metadata": {},
   "outputs": [],
   "source": [
    "print(\"1\")\n",
    "\n",
    "jax_bwd_args = (\n",
    "    torch_to_jax(raster_settings.bg), #0\n",
    "    torch_to_jax(means3D), #1\n",
    "    torch_to_jax(radii_torch), #2 \n",
    "    torch_to_jax(colors_precomp), #3 \n",
    "    torch_to_jax(scales), #4\n",
    "    torch_to_jax(rotations), #5 \n",
    "    # raster_settings.scale_modifier), \n",
    "    torch_to_jax(cov3D_precomp), #6 \n",
    "    torch_to_jax(raster_settings.viewmatrix), #7 \n",
    "    torch_to_jax(raster_settings.projmatrix), #8\n",
    "    grad_out_color_jax, #9\n",
    "    torch_to_jax(sh), #10\n",
    "    torch_to_jax(raster_settings.campos), #11\n",
    "    geomBuffer_jax, #12\n",
    "    jnp.array([[1]]),#num_rendered_jax, #13 \n",
    "    binningBuffer_jax, #14\n",
    "    imgBuffer_jax #15\n",
    ")\n",
    "print(\"2\")\n",
    "(grad_means2D_jax,\n",
    " grad_colors_precomp_jax,\n",
    " grad_opacities_jax,\n",
    " grad_means3D_jax,\n",
    " grad_cov3Ds_precomp_jax,\n",
    " grad_sh_jax,\n",
    " grad_scales_jax, grad_rotations_jax, _) = rasterizer_bwd_jax.bind(\n",
    "            *jax_bwd_args,\n",
    "            tanfovx=tan_fovx, \n",
    "            tanfovy=tan_fovy, \n",
    "            sh_degree=0\n",
    ")  \n"
   ]
  },
  {
   "cell_type": "code",
   "execution_count": null,
   "metadata": {},
   "outputs": [],
   "source": []
  }
 ],
 "metadata": {
  "kernelspec": {
   "display_name": "Python 3 (ipykernel)",
   "language": "python",
   "name": "python3"
  },
  "language_info": {
   "codemirror_mode": {
    "name": "ipython",
    "version": 3
   },
   "file_extension": ".py",
   "mimetype": "text/x-python",
   "name": "python",
   "nbconvert_exporter": "python",
   "pygments_lexer": "ipython3",
   "version": "3.11.7"
  }
 },
 "nbformat": 4,
 "nbformat_minor": 4
}
