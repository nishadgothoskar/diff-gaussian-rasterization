{
 "cells": [
  {
   "cell_type": "code",
   "execution_count": 1,
   "metadata": {},
   "outputs": [],
   "source": [
    "from jax_renderer_primitives import rasterize_fwd, rasterize_bwd\n",
    "\n",
    "import jax\n",
    "import jax.numpy as jnp\n",
    "from jax.scipy.spatial.transform import Rotation as R\n",
    "import functools\n",
    "import matplotlib.pyplot as plt\n",
    "import math\n",
    "import numpy as np\n",
    "from random import randint\n",
    "from tqdm import tqdm\n",
    "from time import time"
   ]
  },
  {
   "cell_type": "code",
   "execution_count": 2,
   "metadata": {},
   "outputs": [],
   "source": [
    "def f(loc_res, loc_gradients):\n",
    "    (\n",
    "        d,\n",
    "        loc_grad_colors_precomp_jax,\n",
    "        loc_grad_opacities_jax,\n",
    "        loc_grad_means3D_jax,\n",
    "        a,\n",
    "        b,\n",
    "        loc_grad_scales_jax,\n",
    "        loc_grad_rotations_jax,\n",
    "        c\n",
    "    ) = rasterize_bwd(loc_res, loc_gradients)\n",
    "    return (\n",
    "        d,\n",
    "        loc_grad_colors_precomp_jax,\n",
    "        loc_grad_opacities_jax,\n",
    "        loc_grad_means3D_jax,\n",
    "        a,\n",
    "        b,\n",
    "        loc_grad_scales_jax,\n",
    "        loc_grad_rotations_jax,\n",
    "        c\n",
    "    )\n",
    "\n"
   ]
  },
  {
   "cell_type": "code",
   "execution_count": 3,
   "metadata": {},
   "outputs": [
    {
     "name": "stdout",
     "output_type": "stream",
     "text": [
      "(400, 3)\n",
      "(400, 3)\n",
      "(400, 1)\n",
      "(400, 3)\n",
      "(400, 4)\n",
      "()\n",
      "()\n",
      "()\n",
      "()\n",
      "()\n",
      "()\n",
      "()\n",
      "()\n",
      "(1,)\n",
      "(3, 200, 200)\n",
      "(400,)\n",
      "(1000000,)\n",
      "(1000000,)\n",
      "(10000000,)\n",
      "(4, 4)\n",
      "(4, 4)\n"
     ]
    }
   ],
   "source": [
    "res = tuple(jnp.load(\"test.npz\").values())\n",
    "for i in res:\n",
    "    print(i.shape)"
   ]
  },
  {
   "cell_type": "code",
   "execution_count": 8,
   "metadata": {},
   "outputs": [
    {
     "name": "stdout",
     "output_type": "stream",
     "text": [
      "(400, 3) (400, 3)\n",
      "0 0.0056152344\n",
      "(400, 3) (400, 3)\n",
      "1 0.026367188\n",
      "(400, 1) (400, 1)\n",
      "2 0.0043945312\n",
      "(400, 3) (400, 3)\n",
      "3 0.038085938\n",
      "(400, 6) (400, 6)\n",
      "4 0.28347778\n",
      "(400, 3, 3) (400, 3, 3)\n",
      "5 18877.244\n",
      "(400, 3) (400, 3)\n",
      "6 0.10546875\n",
      "(400, 4) (400, 4)\n",
      "7 0.014160156\n",
      "(400, 4) (400, 4)\n",
      "8 7.5\n"
     ]
    },
    {
     "ename": "",
     "evalue": "",
     "output_type": "error",
     "traceback": [
      "\u001b[1;31mThe Kernel crashed while executing code in the the current cell or a previous cell. Please review the code in the cell(s) to identify a possible cause of the failure. Click <a href='https://aka.ms/vscodeJupyterKernelCrash'>here</a> for more info. View Jupyter <a href='command:jupyter.viewOutput'>log</a> for further details."
     ]
    }
   ],
   "source": [
    "# from_f = f(res, jnp.ones((3, 200, 200)))\n",
    "import time\n",
    "no_f = rasterize_bwd(res, jnp.ones((3, 200, 200)))\n",
    "time.sleep(3)\n",
    "from_f = rasterize_bwd(res, jnp.ones((3, 200, 200)))\n",
    "time.sleep(3)\n",
    "\n",
    "for i, (a, b) in enumerate(zip(from_f, no_f)):\n",
    "    print(a.shape, b.shape)\n",
    "    print(i, jnp.abs(a - b).max())"
   ]
  },
  {
   "cell_type": "code",
   "execution_count": null,
   "metadata": {},
   "outputs": [],
   "source": []
  }
 ],
 "metadata": {
  "kernelspec": {
   "display_name": "dcolmap",
   "language": "python",
   "name": "python3"
  },
  "language_info": {
   "codemirror_mode": {
    "name": "ipython",
    "version": 3
   },
   "file_extension": ".py",
   "mimetype": "text/x-python",
   "name": "python",
   "nbconvert_exporter": "python",
   "pygments_lexer": "ipython3",
   "version": "3.11.7"
  }
 },
 "nbformat": 4,
 "nbformat_minor": 2
}
