{
 "cells": [
  {
   "cell_type": "code",
   "execution_count": 1,
   "metadata": {},
   "outputs": [
    {
     "data": {
      "text/plain": [
       "device(type='cuda')"
      ]
     },
     "execution_count": 1,
     "metadata": {},
     "output_type": "execute_result"
    }
   ],
   "source": [
    "import diff_gaussian_rasterization as dgr\n",
    "from diff_gaussian_rasterization import GaussianRasterizationSettings, GaussianRasterizer\n",
    "import torch\n",
    "import os\n",
    "import numpy as np\n",
    "import matplotlib.pyplot as plt\n",
    "import math\n",
    "from tqdm import tqdm\n",
    "import bayes3d as b\n",
    "import jax.numpy as jnp\n",
    "from random import randint\n",
    "import pytorch3d.transforms\n",
    "import matplotlib.pyplot as plt\n",
    "from tqdm import tqdm\n",
    "device = torch.device(\"cuda\" if torch.cuda.is_available() else \"cpu\")\n",
    "device\n"
   ]
  },
  {
   "cell_type": "code",
   "execution_count": 3,
   "metadata": {},
   "outputs": [],
   "source": [
    "from collections import namedtuple\n",
    "Intrinsics = namedtuple('Intrinsics', ['height', 'width', 'fx', 'fy', 'cx', 'cy', 'near', 'far'])\n"
   ]
  },
  {
   "cell_type": "code",
   "execution_count": 4,
   "metadata": {},
   "outputs": [
    {
     "name": "stderr",
     "output_type": "stream",
     "text": [
      "/var/tmp/ipykernel_1048622/2742540929.py:33: UserWarning: To copy construct from a tensor, it is recommended to use sourceTensor.clone().detach() or sourceTensor.clone().detach().requires_grad_(True), rather than torch.tensor(sourceTensor).\n",
      "  proj_matrix = torch.tensor(getProjectionMatrix(intrinsics), device=device)\n"
     ]
    }
   ],
   "source": [
    "intrinsics = Intrinsics(\n",
    "    height=100,\n",
    "    width=100,\n",
    "    fx=100.0, fy=100.0,\n",
    "    cx=50.0, cy=50.0,\n",
    "    near=0.01, far=2.5\n",
    ")\n",
    "fovX = jnp.arctan(intrinsics.width / 2 / intrinsics.fx) * 2\n",
    "fovY = jnp.arctan(intrinsics.height / 2 / intrinsics.fy) * 2\n",
    "tan_fovx = math.tan(fovX)\n",
    "tan_fovy = math.tan(fovY)\n",
    "\n",
    "\n",
    "def getProjectionMatrix(intrinsics):\n",
    "    top = intrinsics.near / intrinsics.fy * intrinsics.height / 2.0\n",
    "    bottom = -top\n",
    "    right = intrinsics.near / intrinsics.fy * intrinsics.height / 2.0\n",
    "    left = -right\n",
    "\n",
    "    P = torch.zeros(4, 4)\n",
    "\n",
    "    z_sign = 1.0\n",
    "\n",
    "    P[0, 0] = 2.0 * intrinsics.near / (right - left)\n",
    "    P[1, 1] = 2.0 * intrinsics.near / (top - bottom)\n",
    "    P[0, 2] = (right + left) / (right - left)\n",
    "    P[1, 2] = (top + bottom) / (top - bottom)\n",
    "    P[2, 2] = z_sign * (intrinsics.far + intrinsics.near) / (intrinsics.far - intrinsics.near)\n",
    "    P[2, 3] = -2.0 * (intrinsics.far * intrinsics.near) / (intrinsics.far - intrinsics.near)\n",
    "    P[3, 2] = z_sign\n",
    "    return torch.transpose(P, 0, 1)\n",
    "\n",
    "proj_matrix = torch.tensor(getProjectionMatrix(intrinsics), device=device)\n"
   ]
  },
  {
   "cell_type": "code",
   "execution_count": 6,
   "metadata": {},
   "outputs": [],
   "source": [
    "def posevec_to_matrix(position, quat):\n",
    "    return torch.cat(\n",
    "        (\n",
    "            torch.cat((pytorch3d.transforms.quaternion_to_matrix(quat), position.unsqueeze(1)), 1),\n",
    "            torch.tensor([[0.0, 0.0, 0.0, 1.0]],device=device),\n",
    "        ),\n",
    "        0,\n",
    "    )\n",
    "def apply_transform(points, transform):\n",
    "    rels_ = torch.cat(\n",
    "        (\n",
    "            points,\n",
    "            torch.ones((points.shape[0], 1),  device=device),\n",
    "        ),\n",
    "        1,\n",
    "    )\n",
    "    return torch.einsum(\"ij, aj -> ai\", transform, rels_)[...,:3]"
   ]
  },
  {
   "cell_type": "code",
   "execution_count": 31,
   "metadata": {},
   "outputs": [
    {
     "name": "stderr",
     "output_type": "stream",
     "text": [
      "/var/tmp/ipykernel_867996/2905861234.py:19: UserWarning: To copy construct from a tensor, it is recommended to use sourceTensor.clone().detach() or sourceTensor.clone().detach().requires_grad_(True), rather than torch.tensor(sourceTensor).\n",
      "  means3D = torch.tensor(torch.rand((100,3))*0.2 + torch.tensor([[0.0, 0.0, 1.0]]),device=device)\n",
      "/var/tmp/ipykernel_867996/2905861234.py:23: UserWarning: To copy construct from a tensor, it is recommended to use sourceTensor.clone().detach() or sourceTensor.clone().detach().requires_grad_(True), rather than torch.tensor(sourceTensor).\n",
      "  scales = torch.tensor( 0.0025 * torch.rand((N, 3)),requires_grad=True,device=device)\n"
     ]
    },
    {
     "data": {
      "text/plain": [
       "<matplotlib.colorbar.Colorbar at 0x7f23942a1be0>"
      ]
     },
     "execution_count": 31,
     "metadata": {},
     "output_type": "execute_result"
    },
    {
     "data": {
      "image/png": "[encoded data removed]",
      "text/plain": [
       "<Figure size 640x480 with 2 Axes>"
      ]
     },
     "metadata": {},
     "output_type": "display_data"
    }
   ],
   "source": [
    "\n",
    "camera_pose = jnp.eye(4)\n",
    "view_matrix = torch.transpose(torch.tensor(np.array(b.inverse_pose(camera_pose))),0,1).cuda()\n",
    "raster_settings = GaussianRasterizationSettings(\n",
    "    image_height=int(intrinsics.height),\n",
    "    image_width=int(intrinsics.width),\n",
    "    tanfovx=tan_fovx,\n",
    "    tanfovy=tan_fovy,\n",
    "    bg=torch.tensor([0.0, 0.0, 0.0]).cuda(),\n",
    "    scale_modifier=1.0,\n",
    "    viewmatrix=view_matrix,\n",
    "    projmatrix=view_matrix @ proj_matrix,\n",
    "    sh_degree=1,\n",
    "    campos=torch.zeros(3).cuda(),\n",
    "    prefiltered=False,\n",
    "    debug=None\n",
    ")\n",
    "rasterizer = GaussianRasterizer(raster_settings=raster_settings)\n",
    "\n",
    "means3D = torch.tensor(torch.rand((100,3))*0.2 + torch.tensor([[0.0, 0.0, 1.0]]),device=device)\n",
    "N = means3D.shape[0]\n",
    "means2D = torch.ones((N, 3),requires_grad=True, device=device)\n",
    "opacity = torch.rand((N, 1),requires_grad=True,device=device)\n",
    "scales = torch.tensor( 0.0025 * torch.rand((N, 3)),requires_grad=True,device=device)\n",
    "rotations = torch.rand((N, 4),requires_grad=True,device=device)\n",
    "\n",
    "colors_precomp = means3D[:,2:3].repeat(1,3)\n",
    "\n",
    "data = rasterizer(\n",
    "    means3D = means3D,\n",
    "    means2D = means2D,\n",
    "    shs = None,\n",
    "    colors_precomp = colors_precomp,\n",
    "    opacities = opacity,\n",
    "    scales = scales,\n",
    "    rotations = rotations\n",
    ")\n",
    "\n",
    "color, radii, num_rendered, tiles_depth_sorted,gaussian_sorted,tensor_ranges,out_weights=  data\n",
    "depth_image = np.moveaxis(color.detach().cpu().numpy(),0,-1)[...,2]\n",
    "\n",
    "out_weights = out_weights.detach().cpu().numpy()\n",
    "tensor_ranges = tensor_ranges.detach().cpu().numpy()\n",
    "gaussian_sorted = gaussian_sorted.detach().cpu().numpy()\n",
    "colors_precomp = colors_precomp.detach().cpu().numpy()\n",
    "plt.imshow(depth_image)\n",
    "plt.colorbar()\n"
   ]
  },
  {
   "cell_type": "code",
   "execution_count": 1,
   "metadata": {},
   "outputs": [
    {
     "ename": "NameError",
     "evalue": "name 'intrinsics' is not defined",
     "output_type": "error",
     "traceback": [
      "\u001b[0;31m---------------------------------------------------------------------------\u001b[0m",
      "\u001b[0;31mNameError\u001b[0m                                 Traceback (most recent call last)",
      "\u001b[1;32m/home/nishadgothoskar/diff-gaussian-rasterization/demo.ipynb Cell 6\u001b[0m line \u001b[0;36m4\n\u001b[1;32m      <a href='vscode-notebook-cell://ssh-remote%2B34.70.144.22/home/nishadgothoskar/diff-gaussian-rasterization/demo.ipynb#W5sdnNjb2RlLXJlbW90ZQ%3D%3D?line=1'>2</a>\u001b[0m BLOCK_Y \u001b[39m=\u001b[39m \u001b[39m16\u001b[39m\n\u001b[1;32m      <a href='vscode-notebook-cell://ssh-remote%2B34.70.144.22/home/nishadgothoskar/diff-gaussian-rasterization/demo.ipynb#W5sdnNjb2RlLXJlbW90ZQ%3D%3D?line=2'>3</a>\u001b[0m BLOCK_SIZE \u001b[39m=\u001b[39m BLOCK_X\u001b[39m*\u001b[39m BLOCK_Y\n\u001b[0;32m----> <a href='vscode-notebook-cell://ssh-remote%2B34.70.144.22/home/nishadgothoskar/diff-gaussian-rasterization/demo.ipynb#W5sdnNjb2RlLXJlbW90ZQ%3D%3D?line=3'>4</a>\u001b[0m num_tiles_x \u001b[39m=\u001b[39m \u001b[39mint\u001b[39m((intrinsics\u001b[39m.\u001b[39mwidth \u001b[39m+\u001b[39m BLOCK_X \u001b[39m-\u001b[39m \u001b[39m1\u001b[39m) \u001b[39m/\u001b[39m BLOCK_X)\n\u001b[1;32m      <a href='vscode-notebook-cell://ssh-remote%2B34.70.144.22/home/nishadgothoskar/diff-gaussian-rasterization/demo.ipynb#W5sdnNjb2RlLXJlbW90ZQ%3D%3D?line=4'>5</a>\u001b[0m num_tiles_y \u001b[39m=\u001b[39m \u001b[39mint\u001b[39m((intrinsics\u001b[39m.\u001b[39mheight \u001b[39m+\u001b[39m BLOCK_Y \u001b[39m-\u001b[39m \u001b[39m1\u001b[39m) \u001b[39m/\u001b[39m BLOCK_Y)\n\u001b[1;32m      <a href='vscode-notebook-cell://ssh-remote%2B34.70.144.22/home/nishadgothoskar/diff-gaussian-rasterization/demo.ipynb#W5sdnNjb2RlLXJlbW90ZQ%3D%3D?line=5'>6</a>\u001b[0m num_tiles \u001b[39m=\u001b[39m num_tiles_x \u001b[39m*\u001b[39m num_tiles_y\n",
      "\u001b[0;31mNameError\u001b[0m: name 'intrinsics' is not defined"
     ]
    }
   ],
   "source": [
    "BLOCK_X = 16\n",
    "BLOCK_Y = 16\n",
    "BLOCK_SIZE = BLOCK_X* BLOCK_Y\n",
    "num_tiles_x = int((intrinsics.width + BLOCK_X - 1) / BLOCK_X)\n",
    "num_tiles_y = int((intrinsics.height + BLOCK_Y - 1) / BLOCK_Y)\n",
    "num_tiles = num_tiles_x * num_tiles_y\n",
    "\n",
    "\n",
    "# Print all relevant info.\n",
    "\n",
    "assert tensor_ranges.shape[0] == num_tiles * 2\n",
    "num_gaussians = gaussian_sorted.shape[0]\n",
    "assert out_weights.shape[0] == num_gaussians * BLOCK_X* BLOCK_Y\n",
    "\n",
    "img = np.zeros((intrinsics.height, intrinsics.width))\n",
    "\n",
    "\n",
    "for tile in tqdm(range(num_tiles)):\n",
    "    range_x, range_y = tensor_ranges[2*tile], tensor_ranges[2*tile + 1]\n",
    "    start_index = (BLOCK_SIZE * range_x)\n",
    "    num_gaussians_in_this_block = range_y - range_x\n",
    "    for ii in range(BLOCK_X):\n",
    "        for jj in range(BLOCK_Y):\n",
    "            pixel_coordinates = tile // num_tiles_y * BLOCK_Y + jj, tile % num_tiles_x * BLOCK_X + ii\n",
    "            if pixel_coordinates[0] >= intrinsics.height or pixel_coordinates[1] >= intrinsics.width:\n",
    "                continue\n",
    "            if num_gaussians_in_this_block == 0:\n",
    "                # img[pixel_coordinates[0],pixel_coordinates[1]] = intrinsics.far\n",
    "                continue\n",
    "            pixel_index_in_block = jj * BLOCK_X + ii\n",
    "            u,v = (start_index + pixel_index_in_block * num_gaussians_in_this_block, start_index + (pixel_index_in_block + 1) * num_gaussians_in_this_block)\n",
    "            print(u,v)\n",
    "            weights = out_weights[u:v]\n",
    "            maximum_weight = weights.max()\n",
    "\n",
    "            indices = gaussian_sorted[range_x:range_y]\n",
    "            values = colors_precomp[indices]\n",
    "\n",
    "            img[pixel_coordinates[0],pixel_coordinates[1]] = (weights * values[:,0]).sum()\n",
    "            # img[pixel_coordinates[0],pixel_coordinates[1]] += (1.0 - weights.sum()) * intrinsics.far\n",
    "fig = plt.figure()\n",
    "ax = fig.add_subplot(1,3,1)\n",
    "plt.imshow(depth_image)\n",
    "plt.colorbar()\n",
    "ax.set_title(\"Original\")\n",
    "ax = fig.add_subplot(1,3,2)\n",
    "plt.imshow(img)\n",
    "plt.colorbar()\n",
    "ax.set_title(\"Reconstructed\")\n",
    "ax = fig.add_subplot(1,3,3)\n",
    "plt.imshow(depth_image - img)\n",
    "plt.colorbar()\n",
    "ax.set_title(\"Diff\")"
   ]
  },
  {
   "cell_type": "code",
   "execution_count": null,
   "metadata": {},
   "outputs": [],
   "source": []
  }
 ],
 "metadata": {
  "kernelspec": {
   "display_name": "bayes3d",
   "language": "python",
   "name": "python3"
  },
  "language_info": {
   "codemirror_mode": {
    "name": "ipython",
    "version": 3
   },
   "file_extension": ".py",
   "mimetype": "text/x-python",
   "name": "python",
   "nbconvert_exporter": "python",
   "pygments_lexer": "ipython3",
   "version": "3.9.18"
  }
 },
 "nbformat": 4,
 "nbformat_minor": 2
}
